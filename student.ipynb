{
  "nbformat": 4,
  "nbformat_minor": 0,
  "metadata": {
    "colab": {
      "provenance": []
    },
    "kernelspec": {
      "name": "python3",
      "display_name": "Python 3"
    },
    "language_info": {
      "name": "python"
    }
  },
  "cells": [
    {
      "cell_type": "code",
      "execution_count": 80,
      "metadata": {
        "id": "Ipy0Jv9S5gk6"
      },
      "outputs": [],
      "source": [
        "!pip install -qU \"langchain[groq]\""
      ]
    },
    {
      "cell_type": "code",
      "source": [
        "!pip install -U langgraph"
      ],
      "metadata": {
        "colab": {
          "base_uri": "https://localhost:8080/"
        },
        "collapsed": true,
        "id": "itWzKb8Y5otT",
        "outputId": "ca1ef566-db4b-4850-9c8d-5a23d32f1c9f"
      },
      "execution_count": 81,
      "outputs": [
        {
          "output_type": "stream",
          "name": "stdout",
          "text": [
            "Requirement already satisfied: langgraph in /usr/local/lib/python3.12/dist-packages (0.6.10)\n",
            "Requirement already satisfied: langchain-core>=0.1 in /usr/local/lib/python3.12/dist-packages (from langgraph) (0.3.78)\n",
            "Requirement already satisfied: langgraph-checkpoint<3.0.0,>=2.1.0 in /usr/local/lib/python3.12/dist-packages (from langgraph) (2.1.2)\n",
            "Requirement already satisfied: langgraph-prebuilt<0.7.0,>=0.6.0 in /usr/local/lib/python3.12/dist-packages (from langgraph) (0.6.4)\n",
            "Requirement already satisfied: langgraph-sdk<0.3.0,>=0.2.2 in /usr/local/lib/python3.12/dist-packages (from langgraph) (0.2.9)\n",
            "Requirement already satisfied: pydantic>=2.7.4 in /usr/local/lib/python3.12/dist-packages (from langgraph) (2.11.10)\n",
            "Requirement already satisfied: xxhash>=3.5.0 in /usr/local/lib/python3.12/dist-packages (from langgraph) (3.6.0)\n",
            "Requirement already satisfied: langsmith<1.0.0,>=0.3.45 in /usr/local/lib/python3.12/dist-packages (from langchain-core>=0.1->langgraph) (0.4.33)\n",
            "Requirement already satisfied: tenacity!=8.4.0,<10.0.0,>=8.1.0 in /usr/local/lib/python3.12/dist-packages (from langchain-core>=0.1->langgraph) (8.5.0)\n",
            "Requirement already satisfied: jsonpatch<2.0.0,>=1.33.0 in /usr/local/lib/python3.12/dist-packages (from langchain-core>=0.1->langgraph) (1.33)\n",
            "Requirement already satisfied: PyYAML<7.0.0,>=5.3.0 in /usr/local/lib/python3.12/dist-packages (from langchain-core>=0.1->langgraph) (6.0.3)\n",
            "Requirement already satisfied: typing-extensions<5.0.0,>=4.7.0 in /usr/local/lib/python3.12/dist-packages (from langchain-core>=0.1->langgraph) (4.15.0)\n",
            "Requirement already satisfied: packaging<26.0.0,>=23.2.0 in /usr/local/lib/python3.12/dist-packages (from langchain-core>=0.1->langgraph) (25.0)\n",
            "Requirement already satisfied: ormsgpack>=1.10.0 in /usr/local/lib/python3.12/dist-packages (from langgraph-checkpoint<3.0.0,>=2.1.0->langgraph) (1.11.0)\n",
            "Requirement already satisfied: httpx>=0.25.2 in /usr/local/lib/python3.12/dist-packages (from langgraph-sdk<0.3.0,>=0.2.2->langgraph) (0.28.1)\n",
            "Requirement already satisfied: orjson>=3.10.1 in /usr/local/lib/python3.12/dist-packages (from langgraph-sdk<0.3.0,>=0.2.2->langgraph) (3.11.3)\n",
            "Requirement already satisfied: annotated-types>=0.6.0 in /usr/local/lib/python3.12/dist-packages (from pydantic>=2.7.4->langgraph) (0.7.0)\n",
            "Requirement already satisfied: pydantic-core==2.33.2 in /usr/local/lib/python3.12/dist-packages (from pydantic>=2.7.4->langgraph) (2.33.2)\n",
            "Requirement already satisfied: typing-inspection>=0.4.0 in /usr/local/lib/python3.12/dist-packages (from pydantic>=2.7.4->langgraph) (0.4.2)\n",
            "Requirement already satisfied: anyio in /usr/local/lib/python3.12/dist-packages (from httpx>=0.25.2->langgraph-sdk<0.3.0,>=0.2.2->langgraph) (4.11.0)\n",
            "Requirement already satisfied: certifi in /usr/local/lib/python3.12/dist-packages (from httpx>=0.25.2->langgraph-sdk<0.3.0,>=0.2.2->langgraph) (2025.10.5)\n",
            "Requirement already satisfied: httpcore==1.* in /usr/local/lib/python3.12/dist-packages (from httpx>=0.25.2->langgraph-sdk<0.3.0,>=0.2.2->langgraph) (1.0.9)\n",
            "Requirement already satisfied: idna in /usr/local/lib/python3.12/dist-packages (from httpx>=0.25.2->langgraph-sdk<0.3.0,>=0.2.2->langgraph) (3.10)\n",
            "Requirement already satisfied: h11>=0.16 in /usr/local/lib/python3.12/dist-packages (from httpcore==1.*->httpx>=0.25.2->langgraph-sdk<0.3.0,>=0.2.2->langgraph) (0.16.0)\n",
            "Requirement already satisfied: jsonpointer>=1.9 in /usr/local/lib/python3.12/dist-packages (from jsonpatch<2.0.0,>=1.33.0->langchain-core>=0.1->langgraph) (3.0.0)\n",
            "Requirement already satisfied: requests-toolbelt>=1.0.0 in /usr/local/lib/python3.12/dist-packages (from langsmith<1.0.0,>=0.3.45->langchain-core>=0.1->langgraph) (1.0.0)\n",
            "Requirement already satisfied: requests>=2.0.0 in /usr/local/lib/python3.12/dist-packages (from langsmith<1.0.0,>=0.3.45->langchain-core>=0.1->langgraph) (2.32.4)\n",
            "Requirement already satisfied: zstandard>=0.23.0 in /usr/local/lib/python3.12/dist-packages (from langsmith<1.0.0,>=0.3.45->langchain-core>=0.1->langgraph) (0.25.0)\n",
            "Requirement already satisfied: charset_normalizer<4,>=2 in /usr/local/lib/python3.12/dist-packages (from requests>=2.0.0->langsmith<1.0.0,>=0.3.45->langchain-core>=0.1->langgraph) (3.4.3)\n",
            "Requirement already satisfied: urllib3<3,>=1.21.1 in /usr/local/lib/python3.12/dist-packages (from requests>=2.0.0->langsmith<1.0.0,>=0.3.45->langchain-core>=0.1->langgraph) (2.5.0)\n",
            "Requirement already satisfied: sniffio>=1.1 in /usr/local/lib/python3.12/dist-packages (from anyio->httpx>=0.25.2->langgraph-sdk<0.3.0,>=0.2.2->langgraph) (1.3.1)\n"
          ]
        }
      ]
    },
    {
      "cell_type": "code",
      "source": [
        "!pip install -qU langchain-google-genai"
      ],
      "metadata": {
        "id": "WgoJIsJT9Aw8"
      },
      "execution_count": 82,
      "outputs": []
    },
    {
      "cell_type": "code",
      "source": [
        "import getpass\n",
        "import os\n",
        "# Create your views here.\n",
        "\n",
        "from google.colab import userdata\n",
        "\n",
        "\n",
        "\n",
        "from typing import Annotated\n",
        "from typing_extensions import TypedDict\n",
        "\n",
        "from langgraph.graph.message import add_messages\n",
        "from langgraph.graph import StateGraph, START, END\n",
        "\n",
        "from langchain_core.messages import BaseMessage"
      ],
      "metadata": {
        "id": "8JYl51mm5rVh"
      },
      "execution_count": 83,
      "outputs": []
    },
    {
      "cell_type": "code",
      "source": [
        "os.environ[\"GOOGLE_API_KEY\"] = userdata.get('gen_ai')\n",
        "\n",
        "if not os.getenv(\"GOOGLE_API_KEY\"):\n",
        "        os.environ[\"GOOGLE_API_KEY\"] = getpass.getpass(\"Enter your Google API Key: \")\n",
        "\n",
        "from langchain.chat_models import init_chat_model\n",
        "\n",
        "model = init_chat_model(\"gemini-2.5-flash\", model_provider=\"google_genai\")\n",
        "\n",
        "\n",
        "from langchain_core.messages import HumanMessage, SystemMessage\n",
        "from langchain_core.prompts import ChatPromptTemplate\n",
        "import json"
      ],
      "metadata": {
        "id": "8M00i2XI5xDg"
      },
      "execution_count": 84,
      "outputs": []
    },
    {
      "cell_type": "code",
      "source": [
        "docs_details = {\n",
        "\n",
        "        \"1\": { \"name\": \"syllabus\",\"type\": \"pdf\", \"description\": \"it contains detailed syllabus of physics for this academic year\", \"path\": \"/docs/syllabus.pdf\"},\n",
        "        \"2\": {\"name\": \"class notes of newtons 3rd law of motion\",\"type\": \"pdf\", \"description\": \"it contains whatever discussed in the class on newtons 3rd law of motion\", \"path\": \"/content/newtons_third_law_of_motion.pdf\"}\n",
        "\n",
        "        }\n",
        "\n",
        "stu_scores = {\n",
        "\n",
        "                \"1\": { \"test_score\": \"6\", \"weak_topics\": [\"newtons 1st law of motion\"], \"test_topic\": \"newtons 1st and 2nd laws of motion\",\"test_date\": \"01/01/2022\" },\n",
        "\n",
        "\n",
        "    }\n",
        "\n",
        "class State(TypedDict):\n",
        "\n",
        "  messages: Annotated[list, add_messages]\n",
        "\n",
        "\n",
        "graph_builder = StateGraph(State)"
      ],
      "metadata": {
        "id": "1KJpkU8G6JvA"
      },
      "execution_count": 85,
      "outputs": []
    },
    {
      "cell_type": "markdown",
      "source": [
        "# Quiz Maker\n",
        "it will first quiz topic from student find the relevent documents from documents which are uploaded the teacher, Analysis the student previous performance, suggest to student to prequalilties of the quiz and revison needed topics based on this previous performance, generate quiz quesctions,options, correct answer, explanation of answer"
      ],
      "metadata": {
        "id": "Rt4TPPX9yXMb"
      }
    },
    {
      "cell_type": "code",
      "source": [
        "def document_loader(state: State):\n",
        "\n",
        "\n",
        "        system_template = \"You are a knowledgeable and strict teacher. Your task is to select only the relevant documents needed to prepare a quiz on the given topic. The available documents are provided as a Python dictionary, and the quiz topic is {topic}. Each document includes a description. Carefully read the topic and the document descriptions, then select only the documents that are relevant for preparing a quiz on the given topic. Return your answer only as a Python dictionary in the exact same format as the input documents dictionary, but include only the selected documents. Do not add any explanations, comments, or text outside the dictionary. Do not mention that the output is in any format (such as Python dictionary or JSON). Output must strictly contain only the required documents in dictionary format and nothing else. and there is no restriction on number of documents need to select \"\n",
        "        user_message = \"Available documents details {doc_details} \"\n",
        "\n",
        "        prompt_template = ChatPromptTemplate.from_messages([\n",
        "\n",
        "            (\"system\", system_template),\n",
        "            (\"user\", user_message)\n",
        "\n",
        "        ])\n",
        "\n",
        "        prompt = prompt_template.invoke({\"doc_details\": docs_details, \"topic\": \"newtons 3rd law of motion\"})\n",
        "\n",
        "        responce = model.invoke(prompt)\n",
        "\n",
        "\n",
        "\n",
        "\n",
        "\n",
        "        return {'messages': [responce.content]}"
      ],
      "metadata": {
        "id": "6HXUMsBw6dco"
      },
      "execution_count": 86,
      "outputs": []
    },
    {
      "cell_type": "code",
      "source": [
        "def prev_analysis(state: State):\n",
        "\n",
        "        system_template = \"you are a good teacher, you need to give warning to the student of what topics student need to revise or imporve based on his previous tests performances and weak topics to attempt quiz on given topic: {topic}. these details are in python dictionary format and for each test we have test_score, topics in which student unable to answer in that test is mentioned in weak_topics list, if student did not attempt any quiz until now then metion topics he need to know before attempting quiz on this topic in output\"\n",
        "\n",
        "        user_message = \"previous test details are {stu_scores}\"\n",
        "\n",
        "\n",
        "        prompt_template = ChatPromptTemplate.from_messages([\n",
        "\n",
        "            (\"system\", system_template),\n",
        "            (\"user\", user_message)\n",
        "\n",
        "        ])\n",
        "\n",
        "\n",
        "        prompt = prompt_template.invoke({\"topic\": \"newtons 3rd law of motion\",\"stu_scores\": stu_scores})\n",
        "\n",
        "        responce = model.invoke(prompt)\n",
        "\n",
        "\n",
        "\n",
        "\n",
        "        return {'messages': [responce.content]}"
      ],
      "metadata": {
        "id": "T6VJJuDn6lI4"
      },
      "execution_count": 87,
      "outputs": []
    },
    {
      "cell_type": "code",
      "source": [
        "import re\n",
        "import ast\n",
        "\n",
        "def extract_all_dicts(s: str):\n",
        "    dicts = []\n",
        "    for match in re.findall(r'\\{.*?\\}', s, re.DOTALL):\n",
        "        try:\n",
        "            d = ast.literal_eval(match)\n",
        "            if isinstance(d, dict):\n",
        "                dicts.append(d)\n",
        "        except Exception:\n",
        "            continue\n",
        "    return dicts"
      ],
      "metadata": {
        "id": "SydpfgsXfP8y"
      },
      "execution_count": 88,
      "outputs": []
    },
    {
      "cell_type": "code",
      "source": [
        "def quiz_generator(state: State):\n",
        "\n",
        "\n",
        "        # we need to add below block in for loop\n",
        "\n",
        "       import base64\n",
        "       import httpx\n",
        "\n",
        "\n",
        "       docs = extract_all_dicts(state['messages'][-2].content)\n",
        "\n",
        "\n",
        "       con = []\n",
        "\n",
        "\n",
        "\n",
        "\n",
        "       for i in docs:\n",
        "\n",
        "\n",
        "                acess = i.keys()[0]\n",
        "\n",
        "\n",
        "                pdf_url = i[acess]['path']\n",
        "\n",
        "                pdf_data = base64.b64encode(httpx.get(pdf_url).content).decode(\"utf-8\")\n",
        "\n",
        "                data_docs = {\n",
        "\n",
        "                        \"type\": \"file\",\n",
        "                        \"source_type\": \"base64\",\n",
        "                        \"data\": pdf_data,\n",
        "                        \"mime_type\": \"application/pdf\",\n",
        "\n",
        "                        }\n",
        "\n",
        "\n",
        "\n",
        "                con = con + [data_docs]\n",
        "\n",
        "\n",
        "\n",
        "\n",
        "#           block ends\n",
        "\n",
        "\n",
        "\n",
        "\n",
        "       qnum = 5\n",
        "\n",
        "\n",
        "\n",
        "       topic = \"newtons 3rd law of motion\"\n",
        "\n",
        "       user_mess = f\"prepare a quiz on {topic}\"\n",
        "       level = \"easy\"\n",
        "\n",
        "\n",
        "\n",
        "\n",
        "\n",
        "       sys_mess = f\"you are a teacher, you need to give content in json format only, do not add any other text, you need to give {qnum} questions with 4 options and answer and quections level is {level}. use documents attached below to know syllabus need to cover or for reference .the json format is like this (quiz:[(question:'', options:['','','',''], answer:'', explanantion:'')....]) consider the json format which i given as curve bracked are replaced with flower brackets.\"\n",
        "\n",
        "\n",
        "\n",
        "       message = {\n",
        "            \"role\": \"user\",\n",
        "            \"content\": [\n",
        "                            {\n",
        "                            \"type\": \"text\",\n",
        "                            \"text\": sys_mess\n",
        "                                },\n",
        "\n",
        "                            {\n",
        "                                \"type\": \"text\",\n",
        "                                \"text\": user_mess\n",
        "                            },\n",
        "\n",
        "\n",
        "                        ],\n",
        "                }\n",
        "\n",
        "       message['content'] = message['content'] + con\n",
        "\n",
        "\n",
        "\n",
        "\n",
        "\n",
        "\n",
        "\n",
        "\n",
        "       responce = model.invoke([message])\n",
        "\n",
        "\n",
        "\n",
        "\n",
        "       return {'messages': [responce.content]}"
      ],
      "metadata": {
        "id": "dW-LMI176qXd"
      },
      "execution_count": 89,
      "outputs": []
    },
    {
      "cell_type": "code",
      "source": [
        "graph_builder.add_node(\"document_loader\",document_loader)\n",
        "\n",
        "graph_builder.add_node('prev_analysis', prev_analysis)\n",
        "\n",
        "graph_builder.add_node('quiz_generator', quiz_generator)\n",
        "\n",
        "graph_builder.add_edge(START, \"document_loader\")\n",
        "graph_builder.add_edge(\"document_loader\", 'prev_analysis')\n",
        "graph_builder.add_edge('prev_analysis', 'quiz_generator')\n",
        "graph_builder.add_edge('quiz_generator', END)\n",
        "\n",
        "graph = graph_builder.compile()\n",
        "\n",
        "from IPython.display import Image, display\n",
        "\n",
        "try:\n",
        "    display(Image(graph.get_graph().draw_mermaid_png()))\n",
        "except Exception:\n",
        "    # This requires some extra dependencies and is optional\n",
        "    pass"
      ],
      "metadata": {
        "colab": {
          "base_uri": "https://localhost:8080/",
          "height": 449
        },
        "id": "JHdo06Nr67m6",
        "outputId": "a893ab1a-cbab-44e2-f813-2fe9ba6f32fd"
      },
      "execution_count": 90,
      "outputs": [
        {
          "output_type": "display_data",
          "data": {
            "image/png": "[encoded data removed]",
            "text/plain": [
              "<IPython.core.display.Image object>"
            ]
          },
          "metadata": {}
        }
      ]
    },
    {
      "cell_type": "code",
      "source": [
        "responce = graph.invoke({'messages': [{\"role\": \"user\",\"content\": \"complete the tasks\"}]})\n",
        "\n",
        "\n",
        "\n",
        "\n",
        "\n",
        "\n",
        "def extract_dict_from_string(s: str):\n",
        "    # Extract the first {...} block from the string using regex\n",
        "    match = re.search(r'\\{.*\\}', s, re.DOTALL)\n",
        "    if not match:\n",
        "        return None  # No dictionary found\n",
        "\n",
        "    dict_str = match.group(0)\n",
        "\n",
        "    try:\n",
        "        # Safely evaluate string to Python dict (no code execution)\n",
        "        return ast.literal_eval(dict_str)\n",
        "    except Exception:\n",
        "        return None\n",
        "\n",
        "\n",
        "# print(extract_dict_from_string(responce['messages'][-2].content))\n",
        "print(\"\\n\")\n",
        "\n",
        "# print(responce['messages'][0].content)\n",
        "print(extract_dict_from_string(responce['messages'][-1].content))\n",
        "\n",
        "\n",
        "# print(responce['messages'])"
      ],
      "metadata": {
        "colab": {
          "base_uri": "https://localhost:8080/"
        },
        "id": "KpisgA1e7WWJ",
        "outputId": "2bae472d-d0db-46ab-af28-8d7286181921"
      },
      "execution_count": 91,
      "outputs": [
        {
          "output_type": "stream",
          "name": "stdout",
          "text": [
            "\n",
            "\n",
            "{'quiz': [{'question': \"What does Newton's Third Law of Motion primarily state?\", 'options': ['An object at rest stays at rest.', 'Force equals mass times acceleration.', 'For every action, there is an equal and opposite reaction.', 'Gravity attracts objects to each other.'], 'answer': 'For every action, there is an equal and opposite reaction.', 'explanation': \"Newton's Third Law specifically states that forces always occur in pairs, with each force being equal in magnitude and opposite in direction.\"}, {'question': 'When you push against a wall, what is the reaction force?', 'options': ['The wall pushing back on you.', 'The wall moving away from you.', 'Your hand feeling tired.', 'The force of gravity acting on you.'], 'answer': 'The wall pushing back on you.', 'explanation': \"According to Newton's Third Law, if you exert a force on the wall (action), the wall exerts an equal and opposite force back on you (reaction).\"}, {'question': 'A swimmer pushes water backward with her arms and legs. What is the reaction force that propels her forward?', 'options': ['The water pushing her backward.', 'The water pulling her forward.', 'The water pushing her forward.', 'The force of her muscles.'], 'answer': 'The water pushing her forward.', 'explanation': \"The action force is the swimmer pushing water backward. The equal and opposite reaction force, as per Newton's Third Law, is the water pushing the swimmer forward.\"}, {'question': 'Which of the following is true about action-reaction force pairs?', 'options': ['They act on the same object.', 'They are always unequal in magnitude.', 'They act on different objects.', 'They always cancel each other out.'], 'answer': 'They act on different objects.', 'explanation': 'Action and reaction forces always act on two different interacting objects. For example, you push the wall (action on wall), and the wall pushes you (reaction on you).'}, {'question': 'When a rocket engine expels hot gases downwards, what causes the rocket to move upwards?', 'options': ['Air resistance pushing the rocket up.', 'The force of gravity pulling the rocket up.', 'The gases pushing the rocket upwards.', \"The rocket's own weight.\"], 'answer': 'The gases pushing the rocket upwards.', 'explanation': \"The action is the rocket expelling hot gases downwards. The reaction, according to Newton's Third Law, is the gases exerting an equal and opposite force upwards on the rocket, propelling it into space.\"}]}\n"
          ]
        }
      ]
    },
    {
      "cell_type": "code",
      "source": [
        "model.invoke(\"hello\")"
      ],
      "metadata": {
        "colab": {
          "base_uri": "https://localhost:8080/"
        },
        "id": "skcJQEE7Nljr",
        "outputId": "1564ccee-f976-4c12-955a-89aad53e1b75",
        "collapsed": true
      },
      "execution_count": 92,
      "outputs": [
        {
          "output_type": "execute_result",
          "data": {
            "text/plain": [
              "AIMessage(content='Hello! How can I help you today?', additional_kwargs={}, response_metadata={'prompt_feedback': {'block_reason': 0, 'safety_ratings': []}, 'finish_reason': 'STOP', 'model_name': 'gemini-2.5-flash', 'safety_ratings': []}, id='run--4a1e9ed0-28ca-4926-8337-4c3dfc328e5e-0', usage_metadata={'input_tokens': 2, 'output_tokens': 450, 'total_tokens': 452, 'input_token_details': {'cache_read': 0}, 'output_token_details': {'reasoning': 441}})"
            ]
          },
          "metadata": {},
          "execution_count": 92
        }
      ]
    },
    {
      "cell_type": "code",
      "source": [
        "wrong_attempts = {\n",
        "\n",
        "          \"quiz_topic\": \"Newtons 3rd law of motion\",\n",
        "          \"total_score\": \"3\",\n",
        "          \"total_marks_of_exam\": \"5\",\n",
        "          \"date\": \"22/08/2024\",\n",
        "          \"student_id\": \"in12456\",\n",
        "          \"wrong_questions\": {\n",
        "                \"1\": {\"question\": \"When you push a wall, what is the reaction force according to Newton's Third Law?\", \"student_answer\": \"The wall absorbs your force.\", \"correct_answer\": \"The wall pushes back on you with an equal and opposite force.\", \"explanation\": \"According to the Third Law, if you exert a force (action) on the wall, the wall exerts an equal and opposite force (reaction) back on you.\"},\n",
        "                \"2\": {\"question\": \"Action and reaction forces described by Newton's Third Law always act on:\", \"student_answer\": \"The same object.\", \"correct_answer\": \"Different objects.\", \"explanation\": \"It's crucial to understand that action and reaction forces never cancel each other out because they always act on two different interacting objects.\"}\n",
        "\n",
        "             }\n",
        "\n",
        "\n",
        "     }\n",
        "\n",
        "syllabus = {\n",
        "\n",
        "        \"chapters\": {\n",
        "\n",
        "            \"1\": \"newtons 1st law of motion\",\n",
        "            \"2\": \"newtons 2nd law of motion\",\n",
        "            \"3\": \"newtons 3rd law of motion\",\n",
        "            \"4\": \"Rotational dynamics\",\n",
        "            \"5\": \"Fluid dynamics\"\n",
        "\n",
        "        }\n",
        "\n",
        "}\n",
        "\n",
        "class State(TypedDict):\n",
        "        messages: Annotated[list, add_messages]\n",
        "\n",
        "\n",
        "graph_builder = StateGraph(State)"
      ],
      "metadata": {
        "id": "NYOfiT9uyGQ-"
      },
      "execution_count": 93,
      "outputs": []
    },
    {
      "cell_type": "markdown",
      "source": [
        "# Quiz results analyser which will analize the results of quiz, summarize the student performanace, save into database for future purposes, guide the students"
      ],
      "metadata": {
        "id": "S9QD3BALxwWU"
      }
    },
    {
      "cell_type": "code",
      "source": [
        "def quiz_analysis(state: State):\n",
        "\n",
        "            system_template = \"you are a good teacher, you need to give analysis of student performance in quiz on given topic: {topic}. these details are in python dictionary format and for each wrong question we have question, student_answer, correct_answer and explanation why that answer is correct. based on these details you need to give analysis of student performance in quiz and what topics student need to revise or imporve. if he is performed good in this quiz suggest next topic according to syllabus, syllabus is {syllabus} . output should be in json format only like this ('revision_reqired_topics': '','suggestions_to_improve': '','next_topics_to_study':'') consider the json format which i given as curve bracked are replaced with flower brackets.\"\n",
        "\n",
        "            user_message = \"quiz details are {wrong_attempts}\"\n",
        "\n",
        "            prompt_template = ChatPromptTemplate.from_messages([\n",
        "\n",
        "                    (\"system\", system_template),\n",
        "                    (\"user\", user_message)\n",
        "\n",
        "                ])\n",
        "\n",
        "\n",
        "            prompt = prompt_template.invoke({\"topic\": wrong_attempts['quiz_topic'],\"wrong_attempts\": wrong_attempts,\"syllabus\": syllabus})\n",
        "\n",
        "            responce = model.invoke(prompt)\n",
        "\n",
        "\n",
        "\n",
        "\n",
        "\n",
        "            return {'messages': [responce.content]}"
      ],
      "metadata": {
        "id": "5GkW-ToPyzJu"
      },
      "execution_count": 94,
      "outputs": []
    },
    {
      "cell_type": "code",
      "source": [
        "def data_saver(state: State):\n",
        "\n",
        "\n",
        "\n",
        "\n",
        "\n",
        "        system_template = \"you are a good teacher, you need to mention the topic of each wrong question in quiz on given topic: {topic}. these details are in pyhton dictionary format and for each wrong question we have question, student_answer, correct_answer and explanation why that answer is correct. based on these details you need to give topic of each wrong question. output should be a python list format only like this ['topic1','topic2',....].\"\n",
        "\n",
        "        user_message = \"quiz details are {wrong_attempts}\"\n",
        "\n",
        "        prompt_template = ChatPromptTemplate.from_messages([\n",
        "\n",
        "                    (\"system\", system_template),\n",
        "                    (\"user\", user_message)\n",
        "\n",
        "                ])\n",
        "\n",
        "\n",
        "        prompt = prompt_template.invoke({\"topic\": wrong_attempts['quiz_topic'],\"wrong_attempts\": wrong_attempts})\n",
        "\n",
        "        responce = model.invoke(prompt)\n",
        "\n",
        "\n",
        "        # content need to save in database\n",
        "\n",
        "\n",
        "\n",
        "\n",
        "\n",
        "\n",
        "\n",
        "\n",
        "\n",
        "\n",
        "\n",
        "        return {'messages': [responce.content]}"
      ],
      "metadata": {
        "id": "Rw0bL_Yf1OZa"
      },
      "execution_count": 95,
      "outputs": []
    },
    {
      "cell_type": "code",
      "source": [
        "def extract_list_from_string(s: str):\n",
        "    # Extract the first {...} block from the string using regex\n",
        "    match = re.search(r'\\[.*\\]', s, re.DOTALL)\n",
        "    if not match:\n",
        "        return None  # No dictionary found\n",
        "\n",
        "    dict_str = match.group(0)\n",
        "\n",
        "    try:\n",
        "        # Safely evaluate string to Python list (no code execution)\n",
        "        return ast.literal_eval(dict_str)\n",
        "    except Exception:\n",
        "        return None"
      ],
      "metadata": {
        "id": "6NSgM-lqF1YJ"
      },
      "execution_count": 96,
      "outputs": []
    },
    {
      "cell_type": "code",
      "source": [
        "graph_builder.add_node(\"data_saver\",data_saver)\n",
        "graph_builder.add_node('quiz_analysis', quiz_analysis)\n",
        "\n",
        "graph_builder.add_edge(START, \"data_saver\")\n",
        "\n",
        "# graph_builder.add_edge(START, \"quiz_analysis\")\n",
        "\n",
        "\n",
        "\n",
        "graph_builder.add_edge(\"data_saver\", 'quiz_analysis')\n",
        "\n",
        "graph_builder.add_edge('quiz_analysis', END)\n",
        "\n",
        "\n",
        "graph = graph_builder.compile()\n",
        "\n",
        "\n",
        "from IPython.display import Image, display\n",
        "\n",
        "try:\n",
        "    display(Image(graph.get_graph().draw_mermaid_png()))\n",
        "except Exception:\n",
        "    # This requires some extra dependencies and is optional\n",
        "    pass"
      ],
      "metadata": {
        "id": "Ct9nsr6b2Q4x",
        "colab": {
          "base_uri": "https://localhost:8080/",
          "height": 350
        },
        "outputId": "5d26b761-d1ec-43ac-819e-e9c17f6afb1e"
      },
      "execution_count": 97,
      "outputs": [
        {
          "output_type": "display_data",
          "data": {
            "image/png": "[encoded data removed]",
            "text/plain": [
              "<IPython.core.display.Image object>"
            ]
          },
          "metadata": {}
        }
      ]
    },
    {
      "cell_type": "code",
      "source": [
        "responce = graph.invoke({'messages': [{\"role\": \"user\",\"content\": \"complete the tasks\"}]})\n",
        "\n",
        "print(extract_list_from_string(responce['messages'][-2].content))\n",
        "\n",
        "print(\"\\n\")\n",
        "\n",
        "\n",
        "print(extract_dict_from_string(responce['messages'][-1].content))\n",
        "# print(responce['messages'])"
      ],
      "metadata": {
        "id": "kWeWUEuS2mZl",
        "colab": {
          "base_uri": "https://localhost:8080/"
        },
        "outputId": "2cfb551e-c9f5-47ba-faf4-3a996e2e918a"
      },
      "execution_count": 98,
      "outputs": [
        {
          "output_type": "stream",
          "name": "stdout",
          "text": [
            "['Identifying the Reaction Force', 'Objects on which Action-Reaction Forces Act']\n",
            "\n",
            "\n",
            "{'revision_reqired_topics': \"The student needs to revise the fundamental principles of Newton's Third Law of Motion, specifically focusing on:\\n1.  **Nature of Action-Reaction Pairs:** Understanding that a reaction force is an equal and opposite force, not an absorption of force.\\n2.  **Objects of Interaction:** Clearly understanding that action and reaction forces always act on *different* interacting objects, not the same object. This is a crucial distinction that prevents forces from cancelling each other out.\", 'suggestions_to_improve': \"To improve understanding, the student should:\\n1.  **Revisit the definitions:** Go over the precise definition of Newton's Third Law and its implications.\\n2.  **Practice identifying pairs:** Work through various examples to identify action-reaction force pairs (e.g., a rocket taking off, a person walking, a bird flying, a book resting on a table).\\n3.  **Use diagrams:** Draw free-body diagrams for interacting objects to clearly visualize where forces are applied and their directions.\\n4.  **Conceptual clarity:** Focus on the 'why' behind the law, especially why forces acting on different objects do not cancel each other out.\", 'next_topics_to_study': \"While the student achieved a passing score of 3/5 (60%), the misconceptions identified are fundamental to Newton's Third Law. It is strongly recommended to first thoroughly review the highlighted areas of Newton's Third Law. Once these core concepts are solidified, the student can proceed to the next topic in the syllabus, which is 'Rotational dynamics' (Chapter 4).\"}\n"
          ]
        }
      ]
    },
    {
      "cell_type": "markdown",
      "source": [
        "# Documents analyser which are uploader by the Teacher\n",
        "\n",
        "it wil extract the data from documents which are extracted by the teacher and save that data into the database to use it for guiding students\n"
      ],
      "metadata": {
        "id": "dkZZk4KExO1W"
      }
    },
    {
      "cell_type": "code",
      "source": [
        "import base64\n",
        "import httpx\n",
        "\n",
        "\n",
        "# type can be syllabus or circulum or notes or reference\n",
        "\n",
        "\n",
        "# docs type need to extract from form data\n",
        "\n",
        "type = \"\"\n",
        "\n",
        "\n",
        "\n",
        "doc_details = {\n",
        "\n",
        "               \"type\": \"syllabus\",\n",
        "\n",
        "\n",
        "}\n",
        "\n",
        "\n",
        "# type = doc_details['type']\n",
        "\n",
        "\n",
        "\n",
        "\n",
        "\n",
        "sys_mess = 'you are a good teacher, you new analysis the document. it may syllabus or Notes or reference document. if doument is syllabus or circulum doument then extract the content of what are the chapters and what are the subtopics in each chapter and give output as (\"chapters\": ( \"chapter1_name\": (\"subtopics\": [\"topic1\",\"topic2\", ..]), \"chapter2_name\": (\"subtopics\": [\"topic1\",\"topic2\", ..]),.. )), in this case case output should be a python dictionary.consider the python dictionary format which i given as curve bracked are replaced with flower brackets . if document is notes or reference document then extract the content of what topics convered in the document and give output as [\"topics1\",\"topic2\", ..] in this case output should be a pyhon list. strictly dont add any extra content in output'\n",
        "user_mess = f\" given doument is a {type} document\"\n",
        "\n",
        "message = {\n",
        "            \"role\": \"user\",\n",
        "            \"content\": [\n",
        "                            {\n",
        "                            \"type\": \"text\",\n",
        "                            \"text\": sys_mess\n",
        "                                },\n",
        "\n",
        "                            {\n",
        "                                \"type\": \"text\",\n",
        "                                \"text\": user_mess\n",
        "                            },\n",
        "\n",
        "\n",
        "\n",
        "\n",
        "                        ],\n",
        "                }\n",
        "\n",
        "\n",
        "\n",
        "pdf_url = \"https://gatenotes.in/GATE-Syllabus-New/GATE-Syllabus-MA%20Mathematics(www.gatenotes.in).pdf\"\n",
        "\n",
        "\n",
        "# with open(\"myfile.pdf\", \"rb\") as f:\n",
        "#     pdf_data = base64.b64encode(f.read()).decode(\"utf-8\")\n",
        "\n",
        "\n",
        "pdf_data = base64.b64encode(httpx.get(pdf_url).content).decode(\"utf-8\")\n",
        "\n",
        "\n",
        "\n",
        "\n",
        "docs_file = {\n",
        "\n",
        "              \"type\": \"file\",\n",
        "              \"source_type\": \"base64\",\n",
        "              \"data\": pdf_data,\n",
        "              \"mime_type\": \"application/pdf\",\n",
        "\n",
        "}\n",
        "\n",
        "\n",
        "message['content'] = message['content'] + [docs_file]\n",
        "\n",
        "\n",
        "\n",
        "\n",
        "\n",
        "responce = model.invoke([message])\n",
        "\n",
        "\n",
        "\n",
        "if type == \"syllabus\" or type == \"circulum\":\n",
        "\n",
        "    data_extracted = extract_dict_from_string(responce['messages'][-2].content)\n",
        "\n",
        "    doc_details = doc_details + data_extracted\n",
        "\n",
        "elif type == \"notes\" or type == \"reference\":\n",
        "\n",
        "\n",
        "\n",
        "    data_extracted = extract_list_from_string(responce['messages'][-2].content)\n",
        "\n",
        "    doc_details = doc_details + data_extracted\n",
        "\n",
        "\n",
        "\n",
        "# save this doc_details in discription columbn of databse\n",
        "\n",
        "\n",
        "\n",
        "\n",
        "\n",
        "\n",
        "\n",
        "\n",
        "\n",
        "\n"
      ],
      "metadata": {
        "id": "k-xVvlbHiZTh",
        "collapsed": true
      },
      "execution_count": 99,
      "outputs": []
    },
    {
      "cell_type": "code",
      "source": [],
      "metadata": {
        "id": "cKRo1bkSvM1z"
      },
      "execution_count": 99,
      "outputs": []
    },
    {
      "cell_type": "markdown",
      "source": [
        "## Persionalized ChatBot which can access the student previous performance and guide according to them"
      ],
      "metadata": {
        "id": "vlvO1TKaws7h"
      }
    },
    {
      "cell_type": "code",
      "source": [
        "from langgraph.checkpoint.memory import InMemorySaver\n",
        "\n",
        "\n",
        "class State(TypedDict):\n",
        "\n",
        "  messages: Annotated[list, add_messages]\n",
        "\n",
        "\n",
        "graph_builder = StateGraph(State)\n",
        "\n",
        "memory = InMemorySaver()\n",
        "\n",
        "config = {\"configurable\": {\"thread_id\": \"1\"}}\n",
        "\n",
        "\n",
        "def chatbot(state: State):\n",
        "    return {\"messages\": [model.invoke(state[\"messages\"],config)]}\n",
        "\n",
        "graph_builder.add_node(\"chatbot\", chatbot)\n",
        "\n",
        "graph_builder.add_edge(START,\"chatbot\")\n",
        "\n",
        "\n",
        "\n",
        "graph = graph_builder.compile(checkpointer=memory)\n"
      ],
      "metadata": {
        "id": "ukHSxB9AEkAm"
      },
      "execution_count": 100,
      "outputs": []
    },
    {
      "cell_type": "code",
      "source": [
        "from IPython.display import Image, display\n",
        "\n",
        "try:\n",
        "    display(Image(graph.get_graph().draw_mermaid_png()))\n",
        "except Exception:\n",
        "    # This requires some extra dependencies and is optional\n",
        "    pass"
      ],
      "metadata": {
        "id": "v46R0gRioI5Z"
      },
      "execution_count": 101,
      "outputs": []
    },
    {
      "cell_type": "code",
      "source": [
        "result = graph.invoke({\"messages\": [{\"role\": \"user\", \"content\": \"guide me\"}]},config)"
      ],
      "metadata": {
        "id": "jtvd1K1HoXJ2"
      },
      "execution_count": 102,
      "outputs": []
    }
  ]
}